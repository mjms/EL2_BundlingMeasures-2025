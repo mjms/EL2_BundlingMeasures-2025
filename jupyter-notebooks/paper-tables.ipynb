{
 "cells": [
  {
   "cell_type": "markdown",
   "metadata": {},
   "source": [
    "## Summary files for *\"Bundling Measures for Food Systems Transformation: a global, multimodel assessment\"*\n",
    "\n",
    "This Jupyter Notebook generates Excel sheets that summarize the dataset."
   ]
  },
  {
   "cell_type": "code",
   "execution_count": 1,
   "metadata": {},
   "outputs": [],
   "source": [
    "import sys\n",
    "import pandas as pd\n",
    "\n",
    "import json\n",
    "import pickle\n",
    "import os\n",
    "from os.path import join as pjoin\n",
    "import numpy as np\n",
    "import matplotlib.pyplot as plt\n",
    "import seaborn as sns\n",
    "from tqdm.notebook import tqdm\n",
    "\n",
    "sys.path.append(\"..\")\n",
    "import applepy as apy\n",
    "from applepy.utils.helper import *\n",
    "from applepy.utils.calculations import decomposition,basic\n",
    "\n",
    "# pd.set_option('display.max_rows', None)"
   ]
  },
  {
   "cell_type": "markdown",
   "metadata": {},
   "source": [
    "## Load Datasets"
   ]
  },
  {
   "cell_type": "code",
   "execution_count": 2,
   "metadata": {},
   "outputs": [
    {
     "data": {
      "text/html": [
       "<div>\n",
       "<style scoped>\n",
       "    .dataframe tbody tr th:only-of-type {\n",
       "        vertical-align: middle;\n",
       "    }\n",
       "\n",
       "    .dataframe tbody tr th {\n",
       "        vertical-align: top;\n",
       "    }\n",
       "\n",
       "    .dataframe thead th {\n",
       "        text-align: right;\n",
       "    }\n",
       "</style>\n",
       "<table border=\"1\" class=\"dataframe\">\n",
       "  <thead>\n",
       "    <tr style=\"text-align: right;\">\n",
       "      <th></th>\n",
       "      <th>model</th>\n",
       "      <th>scenario</th>\n",
       "      <th>region</th>\n",
       "      <th>variable</th>\n",
       "      <th>item</th>\n",
       "      <th>unit</th>\n",
       "      <th>year</th>\n",
       "      <th>value</th>\n",
       "      <th>BAU_ref_year</th>\n",
       "      <th>percent_change_BAU_ref_year</th>\n",
       "      <th>diff_BAU_ref_year</th>\n",
       "      <th>percent_change_BAU</th>\n",
       "      <th>diff_BAU</th>\n",
       "      <th>percent_change_ELM</th>\n",
       "      <th>diff_ELM</th>\n",
       "    </tr>\n",
       "  </thead>\n",
       "  <tbody>\n",
       "    <tr>\n",
       "      <th>0</th>\n",
       "      <td>GLOBIOM</td>\n",
       "      <td>BAU</td>\n",
       "      <td>WLD</td>\n",
       "      <td>ANNR_prod</td>\n",
       "      <td>TOT</td>\n",
       "      <td>Absolute number</td>\n",
       "      <td>2020.0</td>\n",
       "      <td>1.515144e+09</td>\n",
       "      <td>2020.0</td>\n",
       "      <td>0.000000</td>\n",
       "      <td>0.0</td>\n",
       "      <td>0.000000</td>\n",
       "      <td>0.0</td>\n",
       "      <td>0.200102</td>\n",
       "      <td>3025784.0</td>\n",
       "    </tr>\n",
       "    <tr>\n",
       "      <th>1</th>\n",
       "      <td>GLOBIOM</td>\n",
       "      <td>BAU</td>\n",
       "      <td>WLD</td>\n",
       "      <td>ANNR_prod</td>\n",
       "      <td>TOT</td>\n",
       "      <td>Absolute number</td>\n",
       "      <td>2050.0</td>\n",
       "      <td>1.841336e+09</td>\n",
       "      <td>2020.0</td>\n",
       "      <td>21.528765</td>\n",
       "      <td>326191883.0</td>\n",
       "      <td>0.000000</td>\n",
       "      <td>0.0</td>\n",
       "      <td>64.673304</td>\n",
       "      <td>723160941.0</td>\n",
       "    </tr>\n",
       "    <tr>\n",
       "      <th>2</th>\n",
       "      <td>GLOBIOM</td>\n",
       "      <td>BAU_DIET</td>\n",
       "      <td>WLD</td>\n",
       "      <td>ANNR_prod</td>\n",
       "      <td>TOT</td>\n",
       "      <td>Absolute number</td>\n",
       "      <td>2020.0</td>\n",
       "      <td>1.515144e+09</td>\n",
       "      <td>2020.0</td>\n",
       "      <td>0.000000</td>\n",
       "      <td>0.0</td>\n",
       "      <td>0.000000</td>\n",
       "      <td>0.0</td>\n",
       "      <td>0.200102</td>\n",
       "      <td>3025784.0</td>\n",
       "    </tr>\n",
       "    <tr>\n",
       "      <th>3</th>\n",
       "      <td>GLOBIOM</td>\n",
       "      <td>BAU_DIET</td>\n",
       "      <td>WLD</td>\n",
       "      <td>ANNR_prod</td>\n",
       "      <td>TOT</td>\n",
       "      <td>Absolute number</td>\n",
       "      <td>2050.0</td>\n",
       "      <td>1.281021e+09</td>\n",
       "      <td>2020.0</td>\n",
       "      <td>-15.452194</td>\n",
       "      <td>-234123055.0</td>\n",
       "      <td>-30.429799</td>\n",
       "      <td>-560314938.0</td>\n",
       "      <td>14.563548</td>\n",
       "      <td>162846003.0</td>\n",
       "    </tr>\n",
       "    <tr>\n",
       "      <th>4</th>\n",
       "      <td>GLOBIOM</td>\n",
       "      <td>BAU_MITI</td>\n",
       "      <td>WLD</td>\n",
       "      <td>ANNR_prod</td>\n",
       "      <td>TOT</td>\n",
       "      <td>Absolute number</td>\n",
       "      <td>2020.0</td>\n",
       "      <td>1.512119e+09</td>\n",
       "      <td>2020.0</td>\n",
       "      <td>-0.199703</td>\n",
       "      <td>-3025784.0</td>\n",
       "      <td>-0.199703</td>\n",
       "      <td>-3025784.0</td>\n",
       "      <td>0.000000</td>\n",
       "      <td>0.0</td>\n",
       "    </tr>\n",
       "  </tbody>\n",
       "</table>\n",
       "</div>"
      ],
      "text/plain": [
       "     model  scenario region   variable item             unit    year  \\\n",
       "0  GLOBIOM       BAU    WLD  ANNR_prod  TOT  Absolute number  2020.0   \n",
       "1  GLOBIOM       BAU    WLD  ANNR_prod  TOT  Absolute number  2050.0   \n",
       "2  GLOBIOM  BAU_DIET    WLD  ANNR_prod  TOT  Absolute number  2020.0   \n",
       "3  GLOBIOM  BAU_DIET    WLD  ANNR_prod  TOT  Absolute number  2050.0   \n",
       "4  GLOBIOM  BAU_MITI    WLD  ANNR_prod  TOT  Absolute number  2020.0   \n",
       "\n",
       "          value  BAU_ref_year  percent_change_BAU_ref_year  diff_BAU_ref_year  \\\n",
       "0  1.515144e+09        2020.0                     0.000000                0.0   \n",
       "1  1.841336e+09        2020.0                    21.528765        326191883.0   \n",
       "2  1.515144e+09        2020.0                     0.000000                0.0   \n",
       "3  1.281021e+09        2020.0                   -15.452194       -234123055.0   \n",
       "4  1.512119e+09        2020.0                    -0.199703         -3025784.0   \n",
       "\n",
       "   percent_change_BAU     diff_BAU  percent_change_ELM     diff_ELM  \n",
       "0            0.000000          0.0            0.200102    3025784.0  \n",
       "1            0.000000          0.0           64.673304  723160941.0  \n",
       "2            0.000000          0.0            0.200102    3025784.0  \n",
       "3          -30.429799 -560314938.0           14.563548  162846003.0  \n",
       "4           -0.199703   -3025784.0            0.000000          0.0  "
      ]
     },
     "execution_count": 2,
     "metadata": {},
     "output_type": "execute_result"
    }
   ],
   "source": [
    "fp = '../data/global-paper_dataset.csv'\n",
    "\n",
    "df = pd.read_csv(fp,index_col=0)#.drop(columns=['index'])\n",
    "df.head()"
   ]
  },
  {
   "cell_type": "code",
   "execution_count": 3,
   "metadata": {},
   "outputs": [
    {
     "data": {
      "text/plain": [
       "'global-paper_decomposition'"
      ]
     },
     "execution_count": 3,
     "metadata": {},
     "output_type": "execute_result"
    }
   ],
   "source": [
    "fp_dc = '../data/global-paper_decomposition.csv'\n",
    "df_dc = pd.read_csv(fp_dc,index_col=0)#.drop(columns=['index'])\n",
    "df_dc.head()\n",
    "\n",
    "base_filename_dc = fp_dc.split('/')[-1].split('.csv')[0]\n",
    "base_filename_dc"
   ]
  },
  {
   "cell_type": "code",
   "execution_count": 4,
   "metadata": {},
   "outputs": [
    {
     "name": "stdout",
     "output_type": "stream",
     "text": [
      "created directory: /Users/mms466/Documents/fsgc/dev/EAT-Lancet-2_modelling_data-processing-viz/jupyter-notebooks/output/paper-tables/global-paper_dataset\n"
     ]
    }
   ],
   "source": [
    "base_filename = fp.split('/')[-1].split('.csv')[0]\n",
    "output_dir = pjoin(os.getcwd(),'output','paper-tables',base_filename)\n",
    "check_path(output_dir)"
   ]
  },
  {
   "cell_type": "markdown",
   "metadata": {},
   "source": [
    "## Food Systems Indicators"
   ]
  },
  {
   "cell_type": "code",
   "execution_count": 5,
   "metadata": {},
   "outputs": [
    {
     "name": "stdout",
     "output_type": "stream",
     "text": [
      "Excel file with multiple sheets created successfully.\n"
     ]
    }
   ],
   "source": [
    "# Input parameters\n",
    "variables = ['CONS','FOOD','PROD','CALI','CALO','AREA','YILD','XPRP']\n",
    "scenarios = ['BAU','BAU_PROD','BAU_WAST','BAU_DIET','EL2','BAU_MITI','ELM']\n",
    "regions = ['WLD']\n",
    "items_list = ['AGR', 'CRP','LSP','VFN','RUM']  # List of items to iterate through\n",
    "year = 2050\n",
    "cols = ['model', 'scenario', 'region', 'variable', 'item', 'unit', 'percent_change_BAU_ref_year', 'percent_change_BAU']\n",
    "\n",
    "# Create a new Excel writer to save multiple sheets in a single file\n",
    "with pd.ExcelWriter(pjoin(output_dir, f\"{base_filename}_summary.xlsx\")) as writer:\n",
    "    for item in items_list:\n",
    "        # Filter data based on criteria for each item\n",
    "        fdf = df[\n",
    "            (df.scenario.isin(scenarios)) &\n",
    "            (df.region.isin(regions)) &\n",
    "            (df.variable.isin(variables)) &\n",
    "            (df.item == item) &\n",
    "            (df.year == year)\n",
    "        ][cols]\n",
    "\n",
    "        # Pivot table for 'percent_change_BAU'\n",
    "        fdf_p = fdf.pivot_table(index=['scenario', 'model'], columns='variable', values='percent_change_BAU')\n",
    "        fdf_p_describe = fdf_p.groupby(['scenario']).describe().reindex(scenarios)\n",
    "        result_BAU = fdf_p_describe.sort_index(axis=1, level=0).loc[slice(None), (variables, ['50%', 'min', 'max', 'count'])]\n",
    "        \n",
    "        # Pivot table for 'percent_change_BAU_ref_year'\n",
    "        fdf_p_ref = fdf.pivot_table(index=['scenario', 'model'], columns='variable', values='percent_change_BAU_ref_year')\n",
    "        fdf_p_ref_describe = fdf_p_ref.groupby(['scenario']).describe().reindex(scenarios)\n",
    "        result_BAU_ref = fdf_p_ref_describe.sort_index(axis=1, level=0).loc[slice(None), (variables, ['50%', 'min', 'max', 'count'])]\n",
    "        \n",
    "        # Save each result as a separate sheet\n",
    "        result_BAU.to_excel(writer, sheet_name=f\"{item}_percent_change_BAU\")\n",
    "        result_BAU_ref.to_excel(writer, sheet_name=f\"{item}_percent_change_BAU_ref_year\")\n",
    "\n",
    "print(\"Excel file with multiple sheets created successfully.\")\n"
   ]
  },
  {
   "cell_type": "code",
   "execution_count": 6,
   "metadata": {},
   "outputs": [
    {
     "name": "stdout",
     "output_type": "stream",
     "text": [
      "'WATR' LSP\n",
      "'WATR' RUM\n",
      "Excel file with multiple sheets created successfully.\n"
     ]
    }
   ],
   "source": [
    "# Input parameters\n",
    "variables = ['ECH4','EN2O','ECO2','WATR','FRTN','FRTP']\n",
    "scenarios = ['BAU','BAU_PROD','BAU_WAST','BAU_DIET','EL2','BAU_MITI','ELM']\n",
    "regions = ['WLD']\n",
    "items_list = ['AGR', 'CRP','LSP','VFN','RUM']  # List of items to iterate through\n",
    "year = 2050\n",
    "cols = ['model', 'scenario', 'region', 'variable', 'item', 'unit', 'percent_change_BAU_ref_year', 'percent_change_BAU']\n",
    "\n",
    "\n",
    "# Load your DataFrame here (replace this with actual data loading if needed)\n",
    "# df = pd.read_csv(\"path_to_your_data.csv\")\n",
    "\n",
    "# Create a new Excel writer to save multiple sheets in a single file\n",
    "with pd.ExcelWriter(pjoin(output_dir, f\"{base_filename}_env-summary.xlsx\")) as writer:\n",
    "    for item in items_list:\n",
    "        try:\n",
    "            # Filter data based on criteria for each item\n",
    "            fdf = df[\n",
    "                (df.scenario.isin(scenarios)) &\n",
    "                (df.region.isin(regions)) &\n",
    "                (df.variable.isin(variables)) &\n",
    "                (df.item == item) &\n",
    "                (df.year == year)\n",
    "            ][cols]\n",
    "\n",
    "            # Pivot table for 'percent_change_BAU'\n",
    "            fdf_p = fdf.pivot_table(index=['scenario', 'model'], columns='variable', values='percent_change_BAU')\n",
    "            fdf_p_describe = fdf_p.groupby(['scenario']).describe().reindex(scenarios)\n",
    "            result_BAU = fdf_p_describe.sort_index(axis=1, level=0).loc[slice(None), (variables, ['50%', 'min', 'max', 'count'])]\n",
    "            \n",
    "            # Pivot table for 'percent_change_BAU_ref_year'\n",
    "            fdf_p_ref = fdf.pivot_table(index=['scenario', 'model'], columns='variable', values='percent_change_BAU_ref_year')\n",
    "            fdf_p_ref_describe = fdf_p_ref.groupby(['scenario']).describe().reindex(scenarios)\n",
    "            result_BAU_ref = fdf_p_ref_describe.sort_index(axis=1, level=0).loc[slice(None), (variables, ['50%', 'min', 'max', 'count'])]\n",
    "            \n",
    "            # Save each result as a separate sheet\n",
    "            result_BAU.to_excel(writer, sheet_name=f\"{item}_percent_change_BAU\")\n",
    "            result_BAU_ref.to_excel(writer, sheet_name=f\"{item}_percent_change_BAU_ref_year\")\n",
    "        except Exception as e:\n",
    "            print(e, item)\n",
    "\n",
    "print(\"Excel file with multiple sheets created successfully.\")\n"
   ]
  },
  {
   "cell_type": "code",
   "execution_count": 7,
   "metadata": {},
   "outputs": [
    {
     "name": "stdout",
     "output_type": "stream",
     "text": [
      "Excel file with multiple sheets created successfully.\n"
     ]
    },
    {
     "name": "stderr",
     "output_type": "stream",
     "text": [
      "/Users/mms466/anaconda3/envs/el-modelling_v4-test-1/lib/python3.11/site-packages/openpyxl/workbook/child.py:99: UserWarning: Title is more than 31 characters. Some applications may not be able to read the file\n",
      "  warnings.warn(\"Title is more than 31 characters. Some applications may not be able to read the file\")\n",
      "/Users/mms466/anaconda3/envs/el-modelling_v4-test-1/lib/python3.11/site-packages/openpyxl/workbook/child.py:99: UserWarning: Title is more than 31 characters. Some applications may not be able to read the file\n",
      "  warnings.warn(\"Title is more than 31 characters. Some applications may not be able to read the file\")\n",
      "/Users/mms466/anaconda3/envs/el-modelling_v4-test-1/lib/python3.11/site-packages/openpyxl/workbook/child.py:99: UserWarning: Title is more than 31 characters. Some applications may not be able to read the file\n",
      "  warnings.warn(\"Title is more than 31 characters. Some applications may not be able to read the file\")\n"
     ]
    }
   ],
   "source": [
    "# Input parameters\n",
    "variables = ['LAND_added']\n",
    "scenarios = ['BAU','BAU_PROD','BAU_WAST','BAU_DIET','EL2','BAU_MITI','ELM']\n",
    "regions = ['WLD']\n",
    "items_list = ['AGR_added','CRP','GRS','ONV_added','LAND_tot']  # List of items to iterate through\n",
    "year = 2050\n",
    "cols = ['model', 'scenario', 'region', 'variable', 'item', 'unit', 'percent_change_BAU_ref_year', 'percent_change_BAU']\n",
    "\n",
    "\n",
    "# Create a new Excel writer to save multiple sheets in a single file\n",
    "with pd.ExcelWriter(pjoin(output_dir, f\"{base_filename}_land-summary.xlsx\")) as writer:\n",
    "    for item in items_list:\n",
    "        # Filter data based on criteria for each item\n",
    "        fdf = df[\n",
    "            (df.scenario.isin(scenarios)) &\n",
    "            (df.region.isin(regions)) &\n",
    "            (df.variable.isin(variables)) &\n",
    "            (df.item == item) &\n",
    "            (df.year == year)\n",
    "        ][cols]\n",
    "\n",
    "        # Pivot table for 'percent_change_BAU'\n",
    "        fdf_p = fdf.pivot_table(index=['scenario', 'model'], columns='variable', values='percent_change_BAU')\n",
    "        fdf_p_describe = fdf_p.groupby(['scenario']).describe().reindex(scenarios)\n",
    "        result_BAU = fdf_p_describe.sort_index(axis=1, level=0).loc[slice(None), (variables, ['50%', 'min', 'max', 'count'])]\n",
    "        \n",
    "        # Pivot table for 'percent_change_BAU_ref_year'\n",
    "        fdf_p_ref = fdf.pivot_table(index=['scenario', 'model'], columns='variable', values='percent_change_BAU_ref_year')\n",
    "        fdf_p_ref_describe = fdf_p_ref.groupby(['scenario']).describe().reindex(scenarios)\n",
    "        result_BAU_ref = fdf_p_ref_describe.sort_index(axis=1, level=0).loc[slice(None), (variables, ['50%', 'min', 'max', 'count'])]\n",
    "        \n",
    "        # Save each result as a separate sheet\n",
    "        result_BAU.to_excel(writer, sheet_name=f\"{item}_percent_change_BAU\")\n",
    "        result_BAU_ref.to_excel(writer, sheet_name=f\"{item}_percent_change_BAU_ref_year\")\n",
    "\n",
    "print(\"Excel file with multiple sheets created successfully.\")\n"
   ]
  },
  {
   "cell_type": "code",
   "execution_count": 8,
   "metadata": {},
   "outputs": [
    {
     "name": "stdout",
     "output_type": "stream",
     "text": [
      "Excel file with multiple sheets created successfully.\n"
     ]
    }
   ],
   "source": [
    "# Input parameters\n",
    "variables = ['EMIS_nonCO2']\n",
    "scenarios = ['BAU','BAU_PROD','BAU_WAST','BAU_DIET','EL2','BAU_MITI','ELM']\n",
    "regions = ['WLD']\n",
    "items_list = ['AGR']  # List of items to iterate through\n",
    "year = 2050\n",
    "cols = ['model', 'scenario', 'region', 'variable', 'item', 'unit', 'percent_change_BAU_ref_year', 'percent_change_BAU']\n",
    "\n",
    "\n",
    "# Create a new Excel writer to save multiple sheets in a single file\n",
    "with pd.ExcelWriter(pjoin(output_dir, f\"{base_filename}_nonCO2-emis-summary.xlsx\")) as writer:\n",
    "    for item in items_list:\n",
    "        # Filter data based on criteria for each item\n",
    "        fdf = df[\n",
    "            (df.scenario.isin(scenarios)) &\n",
    "            (df.region.isin(regions)) &\n",
    "            (df.variable.isin(variables)) &\n",
    "            (df.item == item) &\n",
    "            (df.year == year)\n",
    "        ][cols]\n",
    "\n",
    "        # Pivot table for 'percent_change_BAU'\n",
    "        fdf_p = fdf.pivot_table(index=['scenario', 'model'], columns='variable', values='percent_change_BAU')\n",
    "        fdf_p_describe = fdf_p.groupby(['scenario']).describe().reindex(scenarios)\n",
    "        result_BAU = fdf_p_describe.sort_index(axis=1, level=0).loc[slice(None), (variables, ['50%', 'min', 'max', 'count'])]\n",
    "        \n",
    "        # Pivot table for 'percent_change_BAU_ref_year'\n",
    "        fdf_p_ref = fdf.pivot_table(index=['scenario', 'model'], columns='variable', values='percent_change_BAU_ref_year')\n",
    "        fdf_p_ref_describe = fdf_p_ref.groupby(['scenario']).describe().reindex(scenarios)\n",
    "        result_BAU_ref = fdf_p_ref_describe.sort_index(axis=1, level=0).loc[slice(None), (variables, ['50%', 'min', 'max', 'count'])]\n",
    "        \n",
    "        # Save each result as a separate sheet\n",
    "        result_BAU.to_excel(writer, sheet_name=f\"{item}_percent_change_BAU\")\n",
    "        result_BAU_ref.to_excel(writer, sheet_name=f\"{item}_percent_change_BAU_ref_year\")\n",
    "\n",
    "print(\"Excel file with multiple sheets created successfully.\")\n"
   ]
  },
  {
   "cell_type": "code",
   "execution_count": 9,
   "metadata": {},
   "outputs": [],
   "source": [
    "variables =['GDPT','POPT']\n",
    "scenarios = ['BAU','BAU_PROD','BAU_WAST','BAU_DIET','EL2','BAU_MITI','ELM']\n",
    "regions = ['WLD']\n",
    "items = ['TOT']\n",
    "year = 2050\n",
    "cols =  ['model','scenario','region','variable','item','unit','percent_change_BAU_ref_year', 'percent_change_BAU']\n",
    "fdf = df[(df.scenario.isin(scenarios)) &\n",
    "        (df.region.isin(regions))&\n",
    "        (df.variable.isin(variables)) &\n",
    "        (df.item.isin(items)) &\n",
    "        (df.year==year)][cols]\n",
    "fdf_p = fdf.pivot_table(index=['scenario','model'],columns='variable',values = 'percent_change_BAU_ref_year')\n",
    "fdf_p_describe = fdf_p.groupby(['scenario']).describe().reindex(scenarios)\n",
    "fdf_p_describe.sort_index(axis=1, level=0).loc[slice(None),(variables,['50%','min','max','count'])].to_excel(pjoin(output_dir,base_filename+'_demographics-summary.xlsx.xlsx'))"
   ]
  },
  {
   "cell_type": "markdown",
   "metadata": {},
   "source": [
    "## Decomposition Analysis Summary"
   ]
  },
  {
   "cell_type": "code",
   "execution_count": 10,
   "metadata": {},
   "outputs": [
    {
     "name": "stderr",
     "output_type": "stream",
     "text": [
      "/Users/mms466/anaconda3/envs/el-modelling_v4-test-1/lib/python3.11/site-packages/openpyxl/workbook/child.py:99: UserWarning: Title is more than 31 characters. Some applications may not be able to read the file\n",
      "  warnings.warn(\"Title is more than 31 characters. Some applications may not be able to read the file\")\n"
     ]
    },
    {
     "name": "stdout",
     "output_type": "stream",
     "text": [
      "['CONS', 'FOOD', 'PROD', 'CALI', 'CALO', 'AREA', 'YILD', 'XPRP'] AGR\n"
     ]
    },
    {
     "name": "stderr",
     "output_type": "stream",
     "text": [
      "/Users/mms466/anaconda3/envs/el-modelling_v4-test-1/lib/python3.11/site-packages/openpyxl/workbook/child.py:99: UserWarning: Title is more than 31 characters. Some applications may not be able to read the file\n",
      "  warnings.warn(\"Title is more than 31 characters. Some applications may not be able to read the file\")\n",
      "/Users/mms466/anaconda3/envs/el-modelling_v4-test-1/lib/python3.11/site-packages/openpyxl/workbook/child.py:99: UserWarning: Title is more than 31 characters. Some applications may not be able to read the file\n",
      "  warnings.warn(\"Title is more than 31 characters. Some applications may not be able to read the file\")\n"
     ]
    },
    {
     "name": "stdout",
     "output_type": "stream",
     "text": [
      "['CONS', 'FOOD', 'PROD', 'CALI', 'CALO', 'AREA', 'YILD', 'XPRP'] CRP\n"
     ]
    },
    {
     "name": "stderr",
     "output_type": "stream",
     "text": [
      "/Users/mms466/anaconda3/envs/el-modelling_v4-test-1/lib/python3.11/site-packages/openpyxl/workbook/child.py:99: UserWarning: Title is more than 31 characters. Some applications may not be able to read the file\n",
      "  warnings.warn(\"Title is more than 31 characters. Some applications may not be able to read the file\")\n",
      "/Users/mms466/anaconda3/envs/el-modelling_v4-test-1/lib/python3.11/site-packages/openpyxl/workbook/child.py:99: UserWarning: Title is more than 31 characters. Some applications may not be able to read the file\n",
      "  warnings.warn(\"Title is more than 31 characters. Some applications may not be able to read the file\")\n"
     ]
    },
    {
     "name": "stdout",
     "output_type": "stream",
     "text": [
      "['CONS', 'FOOD', 'PROD', 'CALI', 'CALO', 'AREA', 'YILD', 'XPRP'] LSP\n"
     ]
    },
    {
     "name": "stderr",
     "output_type": "stream",
     "text": [
      "/Users/mms466/anaconda3/envs/el-modelling_v4-test-1/lib/python3.11/site-packages/openpyxl/workbook/child.py:99: UserWarning: Title is more than 31 characters. Some applications may not be able to read the file\n",
      "  warnings.warn(\"Title is more than 31 characters. Some applications may not be able to read the file\")\n",
      "/Users/mms466/anaconda3/envs/el-modelling_v4-test-1/lib/python3.11/site-packages/openpyxl/workbook/child.py:99: UserWarning: Title is more than 31 characters. Some applications may not be able to read the file\n",
      "  warnings.warn(\"Title is more than 31 characters. Some applications may not be able to read the file\")\n"
     ]
    },
    {
     "name": "stdout",
     "output_type": "stream",
     "text": [
      "['CONS', 'FOOD', 'PROD', 'CALI', 'CALO', 'AREA', 'YILD', 'XPRP'] RUM\n"
     ]
    },
    {
     "name": "stderr",
     "output_type": "stream",
     "text": [
      "/Users/mms466/anaconda3/envs/el-modelling_v4-test-1/lib/python3.11/site-packages/openpyxl/workbook/child.py:99: UserWarning: Title is more than 31 characters. Some applications may not be able to read the file\n",
      "  warnings.warn(\"Title is more than 31 characters. Some applications may not be able to read the file\")\n",
      "/Users/mms466/anaconda3/envs/el-modelling_v4-test-1/lib/python3.11/site-packages/openpyxl/workbook/child.py:99: UserWarning: Title is more than 31 characters. Some applications may not be able to read the file\n",
      "  warnings.warn(\"Title is more than 31 characters. Some applications may not be able to read the file\")\n"
     ]
    },
    {
     "name": "stdout",
     "output_type": "stream",
     "text": [
      "['CONS', 'FOOD', 'PROD', 'CALI', 'CALO', 'AREA', 'YILD', 'XPRP'] VFN\n"
     ]
    },
    {
     "name": "stderr",
     "output_type": "stream",
     "text": [
      "/Users/mms466/anaconda3/envs/el-modelling_v4-test-1/lib/python3.11/site-packages/openpyxl/workbook/child.py:99: UserWarning: Title is more than 31 characters. Some applications may not be able to read the file\n",
      "  warnings.warn(\"Title is more than 31 characters. Some applications may not be able to read the file\")\n",
      "/Users/mms466/anaconda3/envs/el-modelling_v4-test-1/lib/python3.11/site-packages/openpyxl/workbook/child.py:99: UserWarning: Title is more than 31 characters. Some applications may not be able to read the file\n",
      "  warnings.warn(\"Title is more than 31 characters. Some applications may not be able to read the file\")\n"
     ]
    },
    {
     "name": "stdout",
     "output_type": "stream",
     "text": [
      "['ECH4', 'EN2O', 'WATR', 'FRTN', 'FRTP'] AGR\n"
     ]
    },
    {
     "name": "stderr",
     "output_type": "stream",
     "text": [
      "/Users/mms466/anaconda3/envs/el-modelling_v4-test-1/lib/python3.11/site-packages/openpyxl/workbook/child.py:99: UserWarning: Title is more than 31 characters. Some applications may not be able to read the file\n",
      "  warnings.warn(\"Title is more than 31 characters. Some applications may not be able to read the file\")\n",
      "/Users/mms466/anaconda3/envs/el-modelling_v4-test-1/lib/python3.11/site-packages/openpyxl/workbook/child.py:99: UserWarning: Title is more than 31 characters. Some applications may not be able to read the file\n",
      "  warnings.warn(\"Title is more than 31 characters. Some applications may not be able to read the file\")\n"
     ]
    },
    {
     "name": "stdout",
     "output_type": "stream",
     "text": [
      "['ECH4', 'EN2O', 'WATR', 'FRTN', 'FRTP'] CRP\n"
     ]
    },
    {
     "name": "stderr",
     "output_type": "stream",
     "text": [
      "/Users/mms466/anaconda3/envs/el-modelling_v4-test-1/lib/python3.11/site-packages/openpyxl/workbook/child.py:99: UserWarning: Title is more than 31 characters. Some applications may not be able to read the file\n",
      "  warnings.warn(\"Title is more than 31 characters. Some applications may not be able to read the file\")\n",
      "/Users/mms466/anaconda3/envs/el-modelling_v4-test-1/lib/python3.11/site-packages/openpyxl/workbook/child.py:99: UserWarning: Title is more than 31 characters. Some applications may not be able to read the file\n",
      "  warnings.warn(\"Title is more than 31 characters. Some applications may not be able to read the file\")\n",
      "/Users/mms466/anaconda3/envs/el-modelling_v4-test-1/lib/python3.11/site-packages/openpyxl/workbook/child.py:99: UserWarning: Title is more than 31 characters. Some applications may not be able to read the file\n",
      "  warnings.warn(\"Title is more than 31 characters. Some applications may not be able to read the file\")\n",
      "/Users/mms466/anaconda3/envs/el-modelling_v4-test-1/lib/python3.11/site-packages/openpyxl/workbook/child.py:99: UserWarning: Title is more than 31 characters. Some applications may not be able to read the file\n",
      "  warnings.warn(\"Title is more than 31 characters. Some applications may not be able to read the file\")\n",
      "/Users/mms466/anaconda3/envs/el-modelling_v4-test-1/lib/python3.11/site-packages/openpyxl/workbook/child.py:99: UserWarning: Title is more than 31 characters. Some applications may not be able to read the file\n",
      "  warnings.warn(\"Title is more than 31 characters. Some applications may not be able to read the file\")\n",
      "/Users/mms466/anaconda3/envs/el-modelling_v4-test-1/lib/python3.11/site-packages/openpyxl/workbook/child.py:99: UserWarning: Title is more than 31 characters. Some applications may not be able to read the file\n",
      "  warnings.warn(\"Title is more than 31 characters. Some applications may not be able to read the file\")\n"
     ]
    },
    {
     "name": "stdout",
     "output_type": "stream",
     "text": [
      "['EMIS_nonCO2'] AGR\n",
      "['LAND_added'] AGR_added\n",
      "['LAND_added'] CRP\n",
      "['LAND_added'] GRS\n",
      "Excel file with multiple sheets created successfully.\n"
     ]
    },
    {
     "name": "stderr",
     "output_type": "stream",
     "text": [
      "/Users/mms466/anaconda3/envs/el-modelling_v4-test-1/lib/python3.11/site-packages/openpyxl/workbook/child.py:99: UserWarning: Title is more than 31 characters. Some applications may not be able to read the file\n",
      "  warnings.warn(\"Title is more than 31 characters. Some applications may not be able to read the file\")\n",
      "/Users/mms466/anaconda3/envs/el-modelling_v4-test-1/lib/python3.11/site-packages/openpyxl/workbook/child.py:99: UserWarning: Title is more than 31 characters. Some applications may not be able to read the file\n",
      "  warnings.warn(\"Title is more than 31 characters. Some applications may not be able to read the file\")\n",
      "/Users/mms466/anaconda3/envs/el-modelling_v4-test-1/lib/python3.11/site-packages/openpyxl/workbook/child.py:99: UserWarning: Title is more than 31 characters. Some applications may not be able to read the file\n",
      "  warnings.warn(\"Title is more than 31 characters. Some applications may not be able to read the file\")\n"
     ]
    }
   ],
   "source": [
    "\n",
    "sheet_sets ={ 'fs_indicators': {'variables':['CONS','FOOD','PROD','CALI','CALO','AREA','YILD','XPRP'],\n",
    "                                'items': ['AGR', 'CRP','LSP','RUM','VFN']},\n",
    "                'env_indicators': {'variables':['ECH4','EN2O','WATR','FRTN','FRTP'],\n",
    "                                'items': ['AGR', 'CRP']},\n",
    "                'env_indicators_emis': {'variables':['EMIS_nonCO2',],\n",
    "                                'items': ['AGR']},\n",
    "                'env_indicators_land': {'variables':['LAND_added'],\n",
    "                                'items': ['AGR_added', 'CRP','GRS']},\n",
    "                                }\n",
    "\n",
    "\n",
    "scenarios = ['BAU','BAU_PROD','BAU_WAST','BAU_DIET','EL2','BAU_MITI','ELM']\n",
    "regions = ['WLD']\n",
    "items_list = []  # List of items to iterate through\n",
    "year = 2050\n",
    "cols = ['individual', 'total', 'interaction', 'model', 'region', 'variable',\n",
    "       'item', 'year', 'unit', 'driver']\n",
    "\n",
    "value_type = 'percent_change_BAU'\n",
    "normalized = False\n",
    "\n",
    "# Create a new Excel writer to save multiple sheets in a single file\n",
    "with pd.ExcelWriter(pjoin(output_dir, f\"{base_filename_dc}_summary.xlsx\")) as writer:\n",
    "    for sheet_set in sheet_sets.keys():\n",
    "        variables = sheet_sets[sheet_set]['variables']\n",
    "        items_list = sheet_sets[sheet_set]['items']\n",
    "\n",
    "        for item in items_list:\n",
    "            print(variables,item)\n",
    "        # Filter data based on criteria for each item\n",
    "        \n",
    "            fdf = df_dc[(df_dc.region.isin(regions)) &\n",
    "                    (df_dc.variable.isin(variables)) &\n",
    "                    (df_dc.item == item) &\n",
    "                    (df_dc.normalized==normalized) &\n",
    "                    (df_dc.value_type==value_type) & \n",
    "                    (df_dc.year==year)][cols]\n",
    "\n",
    "            df_dc_l = fdf.melt(id_vars=['model','region','variable','driver'],value_vars=['total','individual','interaction'],var_name='effect')\n",
    "            df_dc_l_p = df_dc_l.pivot_table(index=['region','model','driver','effect'], columns='variable',values='value').reset_index()\n",
    "            df_dc_l_p_describe = df_dc_l_p.groupby(['region','driver','effect']).describe()\n",
    "            df_dc_l_p.groupby(['region','driver','effect']).describe().loc[slice(None),(variables,['50%','min','max','count'])].to_excel(writer, sheet_name=f\"{sheet_set}_{item}_effects-summary\")\n",
    "\n",
    "            df_dc_l = fdf.melt(id_vars=['model','region','variable','driver'],value_vars=['total','individual','interaction'],var_name='effect')\n",
    "            df_dc_l_p = df_dc_l.pivot_table(index=['model','driver','effect'], columns='variable',values='value').reset_index()\n",
    "            df_dc_l_p.groupby(['driver','model','effect']).describe().loc[slice(None),(variables,['50%'])].to_excel(writer, sheet_name=f\"{sheet_set}_{item}_effects-models\")\n",
    "\n",
    "print(\"Excel file with multiple sheets created successfully.\")\n"
   ]
  }
 ],
 "metadata": {
  "kernelspec": {
   "display_name": "el-modelling_v4-test-1",
   "language": "python",
   "name": "python3"
  },
  "language_info": {
   "codemirror_mode": {
    "name": "ipython",
    "version": 3
   },
   "file_extension": ".py",
   "mimetype": "text/x-python",
   "name": "python",
   "nbconvert_exporter": "python",
   "pygments_lexer": "ipython3",
   "version": "3.11.13"
  }
 },
 "nbformat": 4,
 "nbformat_minor": 2
}
